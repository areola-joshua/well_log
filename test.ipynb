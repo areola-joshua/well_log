{
 "cells": [
  {
   "cell_type": "code",
   "execution_count": 2,
   "id": "c1ca3c51",
   "metadata": {},
   "outputs": [
    {
     "name": "stdout",
     "output_type": "stream",
     "text": [
      "^C\n"
     ]
    }
   ],
   "source": [
    "!streamlit run new.py"
   ]
  },
  {
   "cell_type": "code",
   "execution_count": 4,
   "id": "80442dc1",
   "metadata": {},
   "outputs": [
    {
     "ename": "ModuleNotFoundError",
     "evalue": "No module named 'kthinker'",
     "output_type": "error",
     "traceback": [
      "\u001b[1;31m---------------------------------------------------------------------------\u001b[0m",
      "\u001b[1;31mModuleNotFoundError\u001b[0m                       Traceback (most recent call last)",
      "Cell \u001b[1;32mIn[4], line 1\u001b[0m\n\u001b[1;32m----> 1\u001b[0m \u001b[38;5;28;01mimport\u001b[39;00m \u001b[38;5;21;01mkthinker\u001b[39;00m \u001b[38;5;28;01mas\u001b[39;00m \u001b[38;5;21;01mkt\u001b[39;00m\n",
      "\u001b[1;31mModuleNotFoundError\u001b[0m: No module named 'kthinker'"
     ]
    }
   ],
   "source": [
    "import kthinker as kt"
   ]
  },
  {
   "cell_type": "code",
   "execution_count": 7,
   "id": "75531455",
   "metadata": {
    "collapsed": true
   },
   "outputs": [
    {
     "data": {
      "text/plain": [
       "['CRS',\n",
       " 'Curve',\n",
       " 'DistributionNotFound',\n",
       " 'Header',\n",
       " 'Location',\n",
       " 'Project',\n",
       " 'Synthetic',\n",
       " 'VERSION',\n",
       " 'Well',\n",
       " '__all__',\n",
       " '__builtins__',\n",
       " '__cached__',\n",
       " '__doc__',\n",
       " '__file__',\n",
       " '__loader__',\n",
       " '__name__',\n",
       " '__package__',\n",
       " '__path__',\n",
       " '__spec__',\n",
       " '__version__',\n",
       " 'canstrat',\n",
       " 'canstrat_codes',\n",
       " 'crs',\n",
       " 'curve',\n",
       " 'fields',\n",
       " 'get_distribution',\n",
       " 'header',\n",
       " 'las',\n",
       " 'location',\n",
       " 'plot',\n",
       " 'project',\n",
       " 'quality',\n",
       " 'read_df',\n",
       " 'read_las',\n",
       " 'scales',\n",
       " 'synthetic',\n",
       " 'tools',\n",
       " 'utils',\n",
       " 'well']"
      ]
     },
     "execution_count": 7,
     "metadata": {},
     "output_type": "execute_result"
    }
   ],
   "source": [
    "import welly as well\n",
    "from welly import utils, tools\n",
    "dir(well)"
   ]
  },
  {
   "cell_type": "code",
   "execution_count": 5,
   "id": "f1322322",
   "metadata": {},
   "outputs": [
    {
     "name": "stderr",
     "output_type": "stream",
     "text": [
      "0it [00:00, ?it/s]C:\\Users\\HomePC\\anaconda3\\Lib\\site-packages\\welly\\las.py:144: UserWarning: Warning, LAS version 3.0 not yet supported. Attempting to use LAS 1.2 and 2.0 parsing logic for LAS 3.0.\n",
      "  datasets = from_lasio(las)\n",
      "1it [00:01,  1.25s/it]\n"
     ]
    },
    {
     "data": {
      "text/html": [
       "<table><tr><th>Index</th><th>UWI</th><th>Data</th><th>Curves</th></tr><tr><td>0</td><td><strong>ATQ11</strong></td><td>13&nbsp;curves</td><td>CALI, DT, FTEMP, GR, ILD, NPHI, PERM_ATAGA, PERM_EFF_ATAGA, PHID_ATAGA, PHIE_ATAGA, RHOB, SP, VSH</td></tr></table>"
      ],
      "text/plain": [
       "Project(1 wells: ATQ11)"
      ]
     },
     "execution_count": 5,
     "metadata": {},
     "output_type": "execute_result"
    }
   ],
   "source": [
    "df = well.read_las('x1.las')\n",
    "df"
   ]
  },
  {
   "cell_type": "code",
   "execution_count": 9,
   "id": "fe5e7a87",
   "metadata": {},
   "outputs": [],
   "source": [
    "utils??"
   ]
  },
  {
   "cell_type": "code",
   "execution_count": null,
   "id": "6fc16903",
   "metadata": {},
   "outputs": [],
   "source": []
  }
 ],
 "metadata": {
  "kernelspec": {
   "display_name": "Python 3 (ipykernel)",
   "language": "python",
   "name": "python3"
  },
  "language_info": {
   "codemirror_mode": {
    "name": "ipython",
    "version": 3
   },
   "file_extension": ".py",
   "mimetype": "text/x-python",
   "name": "python",
   "nbconvert_exporter": "python",
   "pygments_lexer": "ipython3",
   "version": "3.11.5"
  }
 },
 "nbformat": 4,
 "nbformat_minor": 5
}
