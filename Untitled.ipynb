{
 "cells": [
  {
   "cell_type": "code",
   "execution_count": 1,
   "id": "998adf60",
   "metadata": {},
   "outputs": [
    {
     "name": "stderr",
     "output_type": "stream",
     "text": [
      "C:\\Users\\HomePC\\anaconda3\\Lib\\site-packages\\pandas\\core\\arrays\\masked.py:60: UserWarning: Pandas requires version '1.3.6' or newer of 'bottleneck' (version '1.3.5' currently installed).\n",
      "  from pandas.core import (\n"
     ]
    }
   ],
   "source": [
    "import streamlit as st\n",
    "import pandas as pd\n",
    "import lasio\n",
    "import matplotlib.pyplot as plt\n",
    "import numpy as np\n",
    "from matplotlib.colors import ListedColormap\n",
    "import seaborn as sns\n",
    "import warnings"
   ]
  },
  {
   "cell_type": "code",
   "execution_count": 15,
   "id": "eaf3d12e",
   "metadata": {},
   "outputs": [
    {
     "data": {
      "text/plain": [
       "'1.32.0'"
      ]
     },
     "execution_count": 15,
     "metadata": {},
     "output_type": "execute_result"
    }
   ],
   "source": [
    "st.__version__"
   ]
  },
  {
   "cell_type": "code",
   "execution_count": 16,
   "id": "14cd57d7",
   "metadata": {},
   "outputs": [],
   "source": [
    "import pandas as pd\n",
    "import lasio as las\n",
    "import matplotlib.pyplot as plt"
   ]
  },
  {
   "cell_type": "code",
   "execution_count": 2,
   "id": "5bc3d7bf",
   "metadata": {},
   "outputs": [],
   "source": [
    "file = \"x1.las\"\n",
    "las = las.read(file)"
   ]
  },
  {
   "cell_type": "code",
   "execution_count": 7,
   "id": "0ed27c96",
   "metadata": {},
   "outputs": [],
   "source": [
    "df = las.df()"
   ]
  },
  {
   "cell_type": "code",
   "execution_count": 9,
   "id": "cb4f3f08",
   "metadata": {},
   "outputs": [
    {
     "data": {
      "text/html": [
       "<div>\n",
       "<style scoped>\n",
       "    .dataframe tbody tr th:only-of-type {\n",
       "        vertical-align: middle;\n",
       "    }\n",
       "\n",
       "    .dataframe tbody tr th {\n",
       "        vertical-align: top;\n",
       "    }\n",
       "\n",
       "    .dataframe thead th {\n",
       "        text-align: right;\n",
       "    }\n",
       "</style>\n",
       "<table border=\"1\" class=\"dataframe\">\n",
       "  <thead>\n",
       "    <tr style=\"text-align: right;\">\n",
       "      <th></th>\n",
       "      <th>DEPT</th>\n",
       "      <th>CALI</th>\n",
       "      <th>DT</th>\n",
       "      <th>FTEMP</th>\n",
       "      <th>GR</th>\n",
       "      <th>ILD</th>\n",
       "      <th>NPHI</th>\n",
       "      <th>PERM_ATAGA</th>\n",
       "      <th>PERM_EFF_ATAGA</th>\n",
       "      <th>PHID_ATAGA</th>\n",
       "      <th>PHIE_ATAGA</th>\n",
       "      <th>RHOB</th>\n",
       "      <th>SP</th>\n",
       "      <th>VSH</th>\n",
       "    </tr>\n",
       "  </thead>\n",
       "  <tbody>\n",
       "    <tr>\n",
       "      <th>8578</th>\n",
       "      <td>8201.0</td>\n",
       "      <td>11.734399</td>\n",
       "      <td>103.900009</td>\n",
       "      <td>74.98994</td>\n",
       "      <td>43.5313</td>\n",
       "      <td>1.9893</td>\n",
       "      <td>29.795099</td>\n",
       "      <td>30580.273438</td>\n",
       "      <td>30580.273438</td>\n",
       "      <td>0.339939</td>\n",
       "      <td>0.309969</td>\n",
       "      <td>2.0891</td>\n",
       "      <td>0.0</td>\n",
       "      <td>0.088165</td>\n",
       "    </tr>\n",
       "    <tr>\n",
       "      <th>8579</th>\n",
       "      <td>8201.5</td>\n",
       "      <td>11.734399</td>\n",
       "      <td>104.199997</td>\n",
       "      <td>74.99451</td>\n",
       "      <td>38.1250</td>\n",
       "      <td>1.9863</td>\n",
       "      <td>30.014000</td>\n",
       "      <td>33206.878906</td>\n",
       "      <td>33206.878906</td>\n",
       "      <td>0.343394</td>\n",
       "      <td>0.318364</td>\n",
       "      <td>2.0834</td>\n",
       "      <td>0.0</td>\n",
       "      <td>0.072890</td>\n",
       "    </tr>\n",
       "    <tr>\n",
       "      <th>8580</th>\n",
       "      <td>8202.0</td>\n",
       "      <td>11.734399</td>\n",
       "      <td>104.500000</td>\n",
       "      <td>74.99908</td>\n",
       "      <td>35.8125</td>\n",
       "      <td>1.9814</td>\n",
       "      <td>30.861700</td>\n",
       "      <td>37279.503906</td>\n",
       "      <td>37279.503906</td>\n",
       "      <td>0.348303</td>\n",
       "      <td>0.325043</td>\n",
       "      <td>2.0753</td>\n",
       "      <td>0.0</td>\n",
       "      <td>0.066780</td>\n",
       "    </tr>\n",
       "    <tr>\n",
       "      <th>8581</th>\n",
       "      <td>8202.5</td>\n",
       "      <td>11.734399</td>\n",
       "      <td>103.600006</td>\n",
       "      <td>75.00366</td>\n",
       "      <td>36.7813</td>\n",
       "      <td>1.9697</td>\n",
       "      <td>30.687000</td>\n",
       "      <td>41492.644531</td>\n",
       "      <td>41492.644531</td>\n",
       "      <td>0.352909</td>\n",
       "      <td>0.328449</td>\n",
       "      <td>2.0677</td>\n",
       "      <td>0.0</td>\n",
       "      <td>0.069310</td>\n",
       "    </tr>\n",
       "    <tr>\n",
       "      <th>8582</th>\n",
       "      <td>8203.0</td>\n",
       "      <td>11.734399</td>\n",
       "      <td>102.599998</td>\n",
       "      <td>75.00823</td>\n",
       "      <td>38.5938</td>\n",
       "      <td>1.9512</td>\n",
       "      <td>32.170101</td>\n",
       "      <td>39614.464844</td>\n",
       "      <td>39614.464844</td>\n",
       "      <td>0.350909</td>\n",
       "      <td>0.324886</td>\n",
       "      <td>2.0710</td>\n",
       "      <td>0.0</td>\n",
       "      <td>0.074159</td>\n",
       "    </tr>\n",
       "  </tbody>\n",
       "</table>\n",
       "</div>"
      ],
      "text/plain": [
       "        DEPT       CALI          DT     FTEMP       GR     ILD       NPHI  \\\n",
       "8578  8201.0  11.734399  103.900009  74.98994  43.5313  1.9893  29.795099   \n",
       "8579  8201.5  11.734399  104.199997  74.99451  38.1250  1.9863  30.014000   \n",
       "8580  8202.0  11.734399  104.500000  74.99908  35.8125  1.9814  30.861700   \n",
       "8581  8202.5  11.734399  103.600006  75.00366  36.7813  1.9697  30.687000   \n",
       "8582  8203.0  11.734399  102.599998  75.00823  38.5938  1.9512  32.170101   \n",
       "\n",
       "        PERM_ATAGA  PERM_EFF_ATAGA  PHID_ATAGA  PHIE_ATAGA    RHOB   SP  \\\n",
       "8578  30580.273438    30580.273438    0.339939    0.309969  2.0891  0.0   \n",
       "8579  33206.878906    33206.878906    0.343394    0.318364  2.0834  0.0   \n",
       "8580  37279.503906    37279.503906    0.348303    0.325043  2.0753  0.0   \n",
       "8581  41492.644531    41492.644531    0.352909    0.328449  2.0677  0.0   \n",
       "8582  39614.464844    39614.464844    0.350909    0.324886  2.0710  0.0   \n",
       "\n",
       "           VSH  \n",
       "8578  0.088165  \n",
       "8579  0.072890  \n",
       "8580  0.066780  \n",
       "8581  0.069310  \n",
       "8582  0.074159  "
      ]
     },
     "execution_count": 9,
     "metadata": {},
     "output_type": "execute_result"
    }
   ],
   "source": [
    "df.reset_index(inplace=True)\n",
    "df.dropna(inplace=True)\n",
    "df.head()"
   ]
  },
  {
   "cell_type": "code",
   "execution_count": 21,
   "id": "6b05a297",
   "metadata": {},
   "outputs": [],
   "source": [
    "import welly"
   ]
  },
  {
   "cell_type": "code",
   "execution_count": 22,
   "id": "86e70c02",
   "metadata": {},
   "outputs": [
    {
     "data": {
      "text/plain": [
       "['CRS',\n",
       " 'Curve',\n",
       " 'DistributionNotFound',\n",
       " 'Header',\n",
       " 'Location',\n",
       " 'Project',\n",
       " 'Synthetic',\n",
       " 'VERSION',\n",
       " 'Well',\n",
       " '__all__',\n",
       " '__builtins__',\n",
       " '__cached__',\n",
       " '__doc__',\n",
       " '__file__',\n",
       " '__loader__',\n",
       " '__name__',\n",
       " '__package__',\n",
       " '__path__',\n",
       " '__spec__',\n",
       " '__version__',\n",
       " 'canstrat',\n",
       " 'canstrat_codes',\n",
       " 'crs',\n",
       " 'curve',\n",
       " 'fields',\n",
       " 'get_distribution',\n",
       " 'header',\n",
       " 'las',\n",
       " 'location',\n",
       " 'plot',\n",
       " 'project',\n",
       " 'quality',\n",
       " 'read_df',\n",
       " 'read_las',\n",
       " 'scales',\n",
       " 'synthetic',\n",
       " 'tools',\n",
       " 'utils',\n",
       " 'well']"
      ]
     },
     "execution_count": 22,
     "metadata": {},
     "output_type": "execute_result"
    }
   ],
   "source": [
    "dir(welly)"
   ]
  },
  {
   "cell_type": "code",
   "execution_count": 27,
   "id": "5a07faff",
   "metadata": {},
   "outputs": [],
   "source": [
    "from ydata_profiling import ProfileReport"
   ]
  },
  {
   "cell_type": "code",
   "execution_count": 29,
   "id": "49b7bb55",
   "metadata": {},
   "outputs": [],
   "source": [
    "profile = ProfileReport(df)"
   ]
  },
  {
   "cell_type": "code",
   "execution_count": 30,
   "id": "fc8b6a6e",
   "metadata": {},
   "outputs": [
    {
     "name": "stderr",
     "output_type": "stream",
     "text": [
      "C:\\Users\\HomePC\\anaconda3\\Lib\\site-packages\\ydata_profiling\\profile_report.py:363: UserWarning: Try running command: 'pip install --upgrade Pillow' to avoid ValueError\n",
      "  warnings.warn(\n"
     ]
    },
    {
     "data": {
      "application/vnd.jupyter.widget-view+json": {
       "model_id": "a897e06a20ad4c3cb976478b8d4edf90",
       "version_major": 2,
       "version_minor": 0
      },
      "text/plain": [
       "Summarize dataset:   0%|          | 0/5 [00:00<?, ?it/s]"
      ]
     },
     "metadata": {},
     "output_type": "display_data"
    },
    {
     "data": {
      "application/vnd.jupyter.widget-view+json": {
       "model_id": "e817dffe85db42cc8b5811faf9966618",
       "version_major": 2,
       "version_minor": 0
      },
      "text/plain": [
       "Generate report structure:   0%|          | 0/1 [00:00<?, ?it/s]"
      ]
     },
     "metadata": {},
     "output_type": "display_data"
    },
    {
     "data": {
      "application/vnd.jupyter.widget-view+json": {
       "model_id": "4ac139eda1e64bcc9668c4ba2a433f76",
       "version_major": 2,
       "version_minor": 0
      },
      "text/plain": [
       "Render HTML:   0%|          | 0/1 [00:00<?, ?it/s]"
      ]
     },
     "metadata": {},
     "output_type": "display_data"
    },
    {
     "data": {
      "application/vnd.jupyter.widget-view+json": {
       "model_id": "f807331940734c0ba787e30a4f844824",
       "version_major": 2,
       "version_minor": 0
      },
      "text/plain": [
       "Export report to file:   0%|          | 0/1 [00:00<?, ?it/s]"
      ]
     },
     "metadata": {},
     "output_type": "display_data"
    }
   ],
   "source": [
    "profile.to_file('well log report.html')"
   ]
  },
  {
   "cell_type": "code",
   "execution_count": null,
   "id": "0bc316b5",
   "metadata": {},
   "outputs": [],
   "source": []
  }
 ],
 "metadata": {
  "kernelspec": {
   "display_name": "Python 3 (ipykernel)",
   "language": "python",
   "name": "python3"
  },
  "language_info": {
   "codemirror_mode": {
    "name": "ipython",
    "version": 3
   },
   "file_extension": ".py",
   "mimetype": "text/x-python",
   "name": "python",
   "nbconvert_exporter": "python",
   "pygments_lexer": "ipython3",
   "version": "3.11.5"
  }
 },
 "nbformat": 4,
 "nbformat_minor": 5
}
